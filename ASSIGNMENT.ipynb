{
  "nbformat": 4,
  "nbformat_minor": 0,
  "metadata": {
    "colab": {
      "provenance": []
    },
    "kernelspec": {
      "name": "python3",
      "display_name": "Python 3"
    },
    "language_info": {
      "name": "python"
    }
  },
  "cells": [
    {
      "cell_type": "markdown",
      "source": [],
      "metadata": {
        "id": "ISVubcPZ_r-t"
      }
    },
    {
      "cell_type": "markdown",
      "source": [
        "\n",
        "#**Files, exceptional handling,logging and memory management**\n",
        "\n",
        "\n",
        "\n",
        "1. **Difference between interpreted and compiled languages:**\n",
        "   - **Interpreted languages** are executed line-by-line by an interpreter at runtime, meaning no separate compilation step is required. Examples include Python and JavaScript.\n",
        "   - **Compiled languages** are translated into machine code by a compiler before execution, producing an executable file that can be run independently. Examples include C and C++.\n",
        "\n",
        "2. **Exception handling in Python:**\n",
        "   - Exception handling in Python is the process of dealing with runtime errors (exceptions) using `try`, `except`, `else`, and `finally` blocks. This helps in managing errors gracefully without crashing the program.\n",
        "\n",
        "3. **Purpose of the `finally` block in exception handling:**\n",
        "   - The `finally` block is used to execute code that must run regardless of whether an exception occurred or not. It's typically used for cleanup tasks like closing files or releasing resources.\n",
        "\n",
        "4. **Logging in Python:**\n",
        "   - Logging is the process of tracking events that happen when running a program. It allows developers to capture, store, and analyze messages such as errors, warnings, and debug information using the `logging` module.\n",
        "\n",
        "5. **Significance of the `__del__` method in Python:**\n",
        "   - The `__del__` method is a special method in Python that is called when an object is about to be destroyed (i.e., when it is garbage collected). It's typically used to clean up resources like file handles or network connections.\n",
        "\n",
        "6. **Difference between `import` and `from ... import` in Python:**\n",
        "   - `import module`: This imports the entire module, and you need to use the module name to access its functions or variables (e.g., `module.function()`).\n",
        "   - `from module import function`: This imports a specific function (or class/variable) from the module, allowing you to use it directly without prefixing the module name (e.g., `function()`).\n",
        "\n",
        "7. **Handling multiple exceptions in Python:**\n",
        "   - You can handle multiple exceptions by chaining `except` blocks, or by catching multiple exceptions in a single `except` statement:\n",
        "     ```python\n",
        "     try:\n",
        "         # code that may raise exceptions\n",
        "     except (TypeError, ValueError) as e:\n",
        "         # handle both exceptions\n",
        "     ```\n",
        "\n",
        "8. **Purpose of the `with` statement when handling files in Python:**\n",
        "   - The `with` statement simplifies file handling by automatically closing the file after the block is executed, even if an exception occurs. This ensures proper resource management.\n",
        "     ```python\n",
        "     with open('file.txt', 'r') as file:\n",
        "         data = file.read()\n",
        "     ```\n",
        "\n",
        "9. **Difference between multithreading and multiprocessing:**\n",
        "   - **Multithreading** involves multiple threads within a single process, sharing the same memory space, and is useful for I/O-bound tasks.\n",
        "   - **Multiprocessing** involves multiple processes, each with its own memory space, and is useful for CPU-bound tasks.\n",
        "\n",
        "10. **Advantages of using logging in a program:**\n",
        "    - Logging provides a systematic way to record events, errors, and other significant information. It is more flexible and reliable than using `print` statements, and can be configured for different levels (e.g., debug, info, warning).\n",
        "\n",
        "11. **Memory management in Python:**\n",
        "    - Python uses automatic memory management via garbage collection, which handles the allocation and deallocation of memory. It keeps track of objects and their references, and frees up memory when no longer needed.\n",
        "\n",
        "12. **Basic steps involved in exception handling in Python:**\n",
        "    - **Try block:** Write the code that may raise exceptions.\n",
        "    - **Except block:** Catch and handle specific exceptions.\n",
        "    - **Else block:** Execute code if no exceptions are raised.\n",
        "    - **Finally block:** Clean-up code that runs no matter what.\n",
        "\n",
        "13. **Why memory management is important in Python:**\n",
        "    - Efficient memory management is critical for performance, especially in large applications. Poor memory management can lead to memory leaks and slowdowns, affecting the program's stability and efficiency.\n",
        "\n",
        "14. **Role of `try` and `except` in exception handling:**\n",
        "    - The `try` block is used to wrap code that might raise an exception, while the `except` block is used to catch and handle the exception if it occurs.\n",
        "\n",
        "15. **How Python's garbage collection system works:**\n",
        "    - Python uses reference counting and a cyclic garbage collector to track objects and reclaim memory. When objects are no longer referenced, the garbage collector frees up memory, preventing memory leaks.\n",
        "\n",
        "16. **Purpose of the `else` block in exception handling:**\n",
        "    - The `else` block is executed if no exceptions are raised in the `try` block. It's useful for code that should only run when the `try` block is successful.\n",
        "\n",
        "17. **Common logging levels in Python:**\n",
        "    - The common logging levels are:\n",
        "      - `DEBUG`: Detailed information, typically useful for diagnosing problems.\n",
        "      - `INFO`: General information about the program's operation.\n",
        "      - `WARNING`: Indicates a potential problem or something unusual.\n",
        "      - `ERROR`: Indicates a problem that affects the program's function.\n",
        "      - `CRITICAL`: A serious error that may cause the program to stop.\n",
        "\n",
        "18. **Difference between `os.fork()` and multiprocessing in Python:**\n",
        "    - `os.fork()` creates a child process by duplicating the current process. It works only on Unix-like systems.\n",
        "    - **Multiprocessing** uses higher-level processes and is cross-platform. It also provides a more robust API for working with processes, handling inter-process communication, and sharing data.\n",
        "\n",
        "19. **Importance of closing a file in Python:**\n",
        "    - Closing a file ensures that all changes are saved, and resources are properly released. If you don't close a file, it may not be written correctly, or the file descriptor could remain open, leading to resource leaks.\n",
        "\n",
        "20. **Difference between `file.read()` and `file.readline()` in Python:**\n",
        "    - `file.read()` reads the entire content of the file as a single string.\n",
        "    - `file.readline()` reads the file line by line and returns each line as a string.\n",
        "\n",
        "21. **Logging module in Python:**\n",
        "    - The `logging` module in Python provides a flexible framework for generating logs of different levels (e.g., debug, info, error) and writing them to various outputs like the console, files, or remote systems.\n",
        "\n",
        "22. **`os` module in Python for file handling:**\n",
        "    - The `os` module in Python provides functions for interacting with the operating system, including file handling tasks like opening, reading, writing, and closing files, as well as handling file paths and directories.\n",
        "\n",
        "23. **Challenges associated with memory management in Python:**\n",
        "    - Challenges include managing large datasets, avoiding memory leaks, ensuring proper cleanup of resources, and dealing with cyclic references that may not be automatically collected.\n",
        "\n",
        "24. **Raising an exception manually in Python:**\n",
        "    - You can raise exceptions manually using the `raise` keyword:\n",
        "      ```python\n",
        "      raise ValueError(\"This is a custom error\")\n",
        "      ```\n",
        "\n",
        "25. **Importance of using multithreading in certain applications:**\n",
        "    - Multithreading is useful in applications that are I/O-bound (e.g., network or file operations) because it allows the program to perform other tasks while waiting for I/O operations to complete.\n"
      ],
      "metadata": {
        "id": "Ij8WZqN2_uO9"
      }
    },
    {
      "cell_type": "code",
      "source": [],
      "metadata": {
        "id": "tsStrxIAAjUp"
      },
      "execution_count": null,
      "outputs": []
    },
    {
      "cell_type": "code",
      "execution_count": 9,
      "metadata": {
        "id": "vmbOFPIE_n_I"
      },
      "outputs": [],
      "source": [
        " # 1. How can you open a file for writing in Python and write a string to it?\n",
        " with open('file.txt', 'w') as file:\n",
        "  file.write('Hello, world')"
      ]
    },
    {
      "cell_type": "code",
      "source": [
        "#2. Write a Python program to read the contents of a file and print each line.\n",
        "with open('file.txt', 'r') as file:\n",
        "  for line in file:\n",
        "        print(line)"
      ],
      "metadata": {
        "colab": {
          "base_uri": "https://localhost:8080/"
        },
        "id": "89jlybF8A7pe",
        "outputId": "f3efdaf0-8a6a-4be2-a3a0-878be4de56e6"
      },
      "execution_count": 10,
      "outputs": [
        {
          "output_type": "stream",
          "name": "stdout",
          "text": [
            "Hello, world\n"
          ]
        }
      ]
    },
    {
      "cell_type": "code",
      "source": [
        "#3. How would you handle a case where the file doesn't exist while trying to open it for reading.\n",
        "try:\n",
        " with open('nonexistent_file.txt', 'r') as file:\n",
        "    data = file.read()\n",
        "except FileNotFoundError:\n",
        "    print(\"The file does not exist.\")"
      ],
      "metadata": {
        "colab": {
          "base_uri": "https://localhost:8080/"
        },
        "id": "66eQ4XT6BO9m",
        "outputId": "86b110e9-3656-4700-f31b-544c7c845f25"
      },
      "execution_count": 4,
      "outputs": [
        {
          "output_type": "stream",
          "name": "stdout",
          "text": [
            "The file does not exist.\n"
          ]
        }
      ]
    },
    {
      "cell_type": "code",
      "source": [
        "#4.  Write a Python script that reads from one file and writes its content to another file.\n",
        "with open('file.txt', 'r') as source_file:\n",
        "    content = source_file.read()\n",
        "with open('output.txt', 'w',) as target_file:\n",
        "    target_file.write(content)\n",
        "with open('output.txt', 'r',) as target_file:\n",
        "    print(target_file.read())\n",
        ""
      ],
      "metadata": {
        "colab": {
          "base_uri": "https://localhost:8080/"
        },
        "id": "uu-82VGnBc_z",
        "outputId": "b9c22853-f0c5-4667-f983-90ab6751061b"
      },
      "execution_count": 8,
      "outputs": [
        {
          "output_type": "stream",
          "name": "stdout",
          "text": [
            "Hello, world\n"
          ]
        }
      ]
    },
    {
      "cell_type": "code",
      "source": [
        "#5. How would you catch and handle division by zero error in Python.\n",
        "try:\n",
        "    a = int(input(\"Enter a number: \"))\n",
        "    b = int(input(\"Enter another number: \"))\n",
        "    result = a / b\n",
        "    print(\"Result:\", result)\n",
        "except ZeroDivisionError:\n",
        "    print(\"Error: Division by zero.\")"
      ],
      "metadata": {
        "colab": {
          "base_uri": "https://localhost:8080/"
        },
        "id": "3zbxWK9oCSpO",
        "outputId": "1f188bce-26f5-4734-8aa9-b615d8d80b8f"
      },
      "execution_count": 11,
      "outputs": [
        {
          "output_type": "stream",
          "name": "stdout",
          "text": [
            "Enter a number: 10\n",
            "Enter another number: 0\n",
            "Error: Division by zero.\n"
          ]
        }
      ]
    },
    {
      "cell_type": "code",
      "source": [
        "# 6.  Write a Python program that logs an error message to a log file when a division by zero exception occurs.\n",
        "import logging\n",
        "logging.basicConfig(level=logging.INFO)\n",
        "try:\n",
        "    a = int(input(\"Enter a number: \"))\n",
        "    b = int(input(\"Enter another number: \"))\n",
        "    result = a / b\n",
        "    print(\"Result:\", result)\n",
        "except ZeroDivisionError as e:\n",
        "    logging.error(f\"Error: Division by zero.{e}\")"
      ],
      "metadata": {
        "colab": {
          "base_uri": "https://localhost:8080/"
        },
        "id": "4flfGP2wDNpt",
        "outputId": "928da280-7ce6-4509-bdfd-a751f3c2a812"
      },
      "execution_count": 18,
      "outputs": [
        {
          "name": "stdout",
          "output_type": "stream",
          "text": [
            "Enter a number: 10\n",
            "Enter another number: 0\n"
          ]
        },
        {
          "output_type": "stream",
          "name": "stderr",
          "text": [
            "ERROR:root:Error: Division by zero.division by zero\n"
          ]
        }
      ]
    },
    {
      "cell_type": "code",
      "source": [
        " # 7. How do you log information at different levels (INFO, ERROR, WARNING) in Python using the logging module.\n",
        "import logging\n",
        "logging.basicConfig(level=logging.INFO)\n",
        "logging.info(\"This is an info message.\")\n",
        "logging.warning(\"This is a warning message.\")\n",
        "logging.error(\"This is an error message.\")\n"
      ],
      "metadata": {
        "colab": {
          "base_uri": "https://localhost:8080/"
        },
        "id": "SRE614r0VWK_",
        "outputId": "414ec97c-78cd-43e5-c5a7-d9f9b1d293a5"
      },
      "execution_count": 21,
      "outputs": [
        {
          "output_type": "stream",
          "name": "stderr",
          "text": [
            "WARNING:root:This is a warning message.\n",
            "ERROR:root:This is an error message.\n"
          ]
        }
      ]
    },
    {
      "cell_type": "code",
      "source": [
        "#8.Write a program to handle a file opening error using exception handling.\n",
        "try:\n",
        "    with open('nonexistent_file.txt', 'r') as file:\n",
        "        data = file.read()\n",
        "except FileNotFoundError:\n",
        "    print(\"Error: The file does not exist.\")"
      ],
      "metadata": {
        "colab": {
          "base_uri": "https://localhost:8080/"
        },
        "id": "Fi3qwC0UVWHv",
        "outputId": "9678f3a6-724a-4af4-c65b-7e6a97ca9ea8"
      },
      "execution_count": 22,
      "outputs": [
        {
          "output_type": "stream",
          "name": "stdout",
          "text": [
            "Error: The file does not exist.\n"
          ]
        }
      ]
    },
    {
      "cell_type": "code",
      "source": [
        "#9.  How can you read a file line by line and store its content in a list in Python.\n",
        "with open('file.txt', 'r') as file:\n",
        "    lines = file.readlines()\n",
        "for line in lines:\n",
        "    print(line)"
      ],
      "metadata": {
        "colab": {
          "base_uri": "https://localhost:8080/"
        },
        "id": "PrC3tD3SVWDN",
        "outputId": "6c860041-7e03-45fd-c8fd-ee4fe5a551bb"
      },
      "execution_count": 27,
      "outputs": [
        {
          "output_type": "stream",
          "name": "stdout",
          "text": [
            "Hello, world\n"
          ]
        }
      ]
    },
    {
      "cell_type": "code",
      "source": [
        "#10. How can you append data to an existing file in Python.\n",
        "with open('file.txt', 'a') as file:\n",
        "    file.write('\\nAppending data to the file.')\n",
        "with open('file.txt', 'r') as file:\n",
        "    print(file.read())"
      ],
      "metadata": {
        "colab": {
          "base_uri": "https://localhost:8080/"
        },
        "id": "qBoohRC2VWAE",
        "outputId": "801d8f9a-0dd1-49ac-b885-69074317d235"
      },
      "execution_count": 28,
      "outputs": [
        {
          "output_type": "stream",
          "name": "stdout",
          "text": [
            "Hello, world\n",
            "Appending data to the file.\n"
          ]
        }
      ]
    },
    {
      "cell_type": "code",
      "source": [
        "#11. Write a Python program that uses a try-except block to handle an error when attempting to access a dictionary key that doesn't exist.\n",
        "try:\n",
        "    my_dict = {'a': 1, 'b': 2}\n",
        "    value = my_dict['c']\n",
        "except KeyError:\n",
        "    print(\"Error: Key does not exist in the dictionary.\")"
      ],
      "metadata": {
        "colab": {
          "base_uri": "https://localhost:8080/"
        },
        "id": "T5GAavmPVV8T",
        "outputId": "d243b3fc-abbd-43e3-edf5-4b488c9dc90d"
      },
      "execution_count": 34,
      "outputs": [
        {
          "output_type": "stream",
          "name": "stdout",
          "text": [
            "Error: Key does not exist in the dictionary.\n"
          ]
        }
      ]
    },
    {
      "cell_type": "code",
      "source": [
        "#12. Write a program that demonstrates using multiple except blocks to handle different types of exceptions.\n",
        "try:\n",
        "  a = int(input(\"Enter a number: \"))\n",
        "  b = int(input(\"Enter another number: \"))\n",
        "  result = a / b\n",
        "  print(\"Result:\", result)\n",
        "except ZeroDivisionError:\n",
        "  print(\"Error: Division by zero.\")\n",
        "except ValueError:\n",
        "  print(\"Value Error: Invalid input.\")\n",
        "except Exception as e:\n",
        "  print(f\"An error occurred: {e}\")"
      ],
      "metadata": {
        "colab": {
          "base_uri": "https://localhost:8080/"
        },
        "id": "pwdPMjJoUcf6",
        "outputId": "3ab9bfe9-7ac4-4110-9ad9-4cfc12aad6e9"
      },
      "execution_count": 35,
      "outputs": [
        {
          "output_type": "stream",
          "name": "stdout",
          "text": [
            "Enter a number: 10\n",
            "Enter another number: a\n",
            "Value Error: Invalid input.\n"
          ]
        }
      ]
    },
    {
      "cell_type": "code",
      "source": [
        "#13. How would you check if a file exists before attempting to read it in Python.\n",
        "import os\n",
        "\n",
        "file_path = input(\"Enter the file path: \")\n",
        "\n",
        "if os.path.isfile(file_path):\n",
        "    with open(file_path, 'r') as file:\n",
        "        content = file.read()\n",
        "        print(content)\n",
        "else:\n",
        "    print(f\"The file {file_path} is either missing or it's not a file.\")\n"
      ],
      "metadata": {
        "colab": {
          "base_uri": "https://localhost:8080/"
        },
        "id": "inCt2iPcm6nU",
        "outputId": "70fea7a6-c9bb-46ab-ac2e-708cf81e42e4"
      },
      "execution_count": 36,
      "outputs": [
        {
          "output_type": "stream",
          "name": "stdout",
          "text": [
            "Enter the file path: file.txt\n",
            "Hello, world\n",
            "Appending data to the file.\n"
          ]
        }
      ]
    },
    {
      "cell_type": "code",
      "source": [
        "#14. Write a program that uses the logging module to log both informational and error messages.\n",
        "import logging\n",
        "logging.basicConfig(level=logging.INFO)\n",
        "try:\n",
        "  a = int(input(\"Enter a number: \"))\n",
        "  b = int(input(\"Enter another number: \"))\n",
        "  result = a / b\n",
        "  print(\"Result:\", result)\n",
        "except ZeroDivisionError as e :\n",
        " logging.error(f\"Error: Division by zero.{e}\")\n",
        " logging.info(\"This is an info message.\")"
      ],
      "metadata": {
        "colab": {
          "base_uri": "https://localhost:8080/"
        },
        "id": "6KPTJjy4nj0T",
        "outputId": "77fb4dc6-a5b8-4376-c65e-94bff45c813c"
      },
      "execution_count": 40,
      "outputs": [
        {
          "name": "stdout",
          "output_type": "stream",
          "text": [
            "Enter a number: 10\n",
            "Enter another number: 0\n"
          ]
        },
        {
          "output_type": "stream",
          "name": "stderr",
          "text": [
            "ERROR:root:Error: Division by zero.division by zero\n"
          ]
        }
      ]
    },
    {
      "cell_type": "code",
      "source": [
        "#15. Write a Python program that prints the content of a file and handles the case when the file is empty.\n",
        "\n",
        "with open('Myfile.txt', 'r') as file:\n",
        "    content = file.read()\n",
        "if content:\n",
        "    print(content)\n",
        "else:\n",
        "    print(\"The file is empty.\")"
      ],
      "metadata": {
        "colab": {
          "base_uri": "https://localhost:8080/"
        },
        "id": "QVRip9IUokug",
        "outputId": "577435b4-638e-42c6-b2eb-1ebf5ae866ab"
      },
      "execution_count": 46,
      "outputs": [
        {
          "output_type": "stream",
          "name": "stdout",
          "text": [
            "The file is empty.\n"
          ]
        }
      ]
    },
    {
      "cell_type": "code",
      "source": [
        "pip install memory profiler"
      ],
      "metadata": {
        "colab": {
          "base_uri": "https://localhost:8080/"
        },
        "collapsed": true,
        "id": "L87I5-fq6Z__",
        "outputId": "025bbc26-b3c1-44d5-db55-e0dab708693f"
      },
      "execution_count": 47,
      "outputs": [
        {
          "output_type": "stream",
          "name": "stdout",
          "text": [
            "Collecting memory\n",
            "  Downloading memory-1.0.0-py3-none-any.whl.metadata (7.7 kB)\n",
            "Collecting profiler\n",
            "  Downloading profiler-0.1.0-py2.py3-none-any.whl.metadata (754 bytes)\n",
            "Requirement already satisfied: numpy in /usr/local/lib/python3.11/dist-packages (from memory) (2.0.2)\n",
            "Requirement already satisfied: psutil in /usr/local/lib/python3.11/dist-packages (from memory) (5.9.5)\n",
            "Collecting streamlit (from memory)\n",
            "  Downloading streamlit-1.44.0-py3-none-any.whl.metadata (8.9 kB)\n",
            "Requirement already satisfied: altair<6,>=4.0 in /usr/local/lib/python3.11/dist-packages (from streamlit->memory) (5.5.0)\n",
            "Requirement already satisfied: blinker<2,>=1.0.0 in /usr/local/lib/python3.11/dist-packages (from streamlit->memory) (1.9.0)\n",
            "Requirement already satisfied: cachetools<6,>=4.0 in /usr/local/lib/python3.11/dist-packages (from streamlit->memory) (5.5.2)\n",
            "Requirement already satisfied: click<9,>=7.0 in /usr/local/lib/python3.11/dist-packages (from streamlit->memory) (8.1.8)\n",
            "Requirement already satisfied: packaging<25,>=20 in /usr/local/lib/python3.11/dist-packages (from streamlit->memory) (24.2)\n",
            "Requirement already satisfied: pandas<3,>=1.4.0 in /usr/local/lib/python3.11/dist-packages (from streamlit->memory) (2.2.2)\n",
            "Requirement already satisfied: pillow<12,>=7.1.0 in /usr/local/lib/python3.11/dist-packages (from streamlit->memory) (11.1.0)\n",
            "Requirement already satisfied: protobuf<6,>=3.20 in /usr/local/lib/python3.11/dist-packages (from streamlit->memory) (5.29.4)\n",
            "Requirement already satisfied: pyarrow>=7.0 in /usr/local/lib/python3.11/dist-packages (from streamlit->memory) (18.1.0)\n",
            "Requirement already satisfied: requests<3,>=2.27 in /usr/local/lib/python3.11/dist-packages (from streamlit->memory) (2.32.3)\n",
            "Requirement already satisfied: tenacity<10,>=8.1.0 in /usr/local/lib/python3.11/dist-packages (from streamlit->memory) (9.0.0)\n",
            "Requirement already satisfied: toml<2,>=0.10.1 in /usr/local/lib/python3.11/dist-packages (from streamlit->memory) (0.10.2)\n",
            "Requirement already satisfied: typing-extensions<5,>=4.4.0 in /usr/local/lib/python3.11/dist-packages (from streamlit->memory) (4.12.2)\n",
            "Collecting watchdog<7,>=2.1.5 (from streamlit->memory)\n",
            "  Downloading watchdog-6.0.0-py3-none-manylinux2014_x86_64.whl.metadata (44 kB)\n",
            "\u001b[2K     \u001b[90m━━━━━━━━━━━━━━━━━━━━━━━━━━━━━━━━━━━━━━━━\u001b[0m \u001b[32m44.3/44.3 kB\u001b[0m \u001b[31m2.0 MB/s\u001b[0m eta \u001b[36m0:00:00\u001b[0m\n",
            "\u001b[?25hRequirement already satisfied: gitpython!=3.1.19,<4,>=3.0.7 in /usr/local/lib/python3.11/dist-packages (from streamlit->memory) (3.1.44)\n",
            "Collecting pydeck<1,>=0.8.0b4 (from streamlit->memory)\n",
            "  Downloading pydeck-0.9.1-py2.py3-none-any.whl.metadata (4.1 kB)\n",
            "Requirement already satisfied: tornado<7,>=6.0.3 in /usr/local/lib/python3.11/dist-packages (from streamlit->memory) (6.4.2)\n",
            "Requirement already satisfied: jinja2 in /usr/local/lib/python3.11/dist-packages (from altair<6,>=4.0->streamlit->memory) (3.1.6)\n",
            "Requirement already satisfied: jsonschema>=3.0 in /usr/local/lib/python3.11/dist-packages (from altair<6,>=4.0->streamlit->memory) (4.23.0)\n",
            "Requirement already satisfied: narwhals>=1.14.2 in /usr/local/lib/python3.11/dist-packages (from altair<6,>=4.0->streamlit->memory) (1.31.0)\n",
            "Requirement already satisfied: gitdb<5,>=4.0.1 in /usr/local/lib/python3.11/dist-packages (from gitpython!=3.1.19,<4,>=3.0.7->streamlit->memory) (4.0.12)\n",
            "Requirement already satisfied: python-dateutil>=2.8.2 in /usr/local/lib/python3.11/dist-packages (from pandas<3,>=1.4.0->streamlit->memory) (2.8.2)\n",
            "Requirement already satisfied: pytz>=2020.1 in /usr/local/lib/python3.11/dist-packages (from pandas<3,>=1.4.0->streamlit->memory) (2025.1)\n",
            "Requirement already satisfied: tzdata>=2022.7 in /usr/local/lib/python3.11/dist-packages (from pandas<3,>=1.4.0->streamlit->memory) (2025.1)\n",
            "Requirement already satisfied: charset-normalizer<4,>=2 in /usr/local/lib/python3.11/dist-packages (from requests<3,>=2.27->streamlit->memory) (3.4.1)\n",
            "Requirement already satisfied: idna<4,>=2.5 in /usr/local/lib/python3.11/dist-packages (from requests<3,>=2.27->streamlit->memory) (3.10)\n",
            "Requirement already satisfied: urllib3<3,>=1.21.1 in /usr/local/lib/python3.11/dist-packages (from requests<3,>=2.27->streamlit->memory) (2.3.0)\n",
            "Requirement already satisfied: certifi>=2017.4.17 in /usr/local/lib/python3.11/dist-packages (from requests<3,>=2.27->streamlit->memory) (2025.1.31)\n",
            "Requirement already satisfied: smmap<6,>=3.0.1 in /usr/local/lib/python3.11/dist-packages (from gitdb<5,>=4.0.1->gitpython!=3.1.19,<4,>=3.0.7->streamlit->memory) (5.0.2)\n",
            "Requirement already satisfied: MarkupSafe>=2.0 in /usr/local/lib/python3.11/dist-packages (from jinja2->altair<6,>=4.0->streamlit->memory) (3.0.2)\n",
            "Requirement already satisfied: attrs>=22.2.0 in /usr/local/lib/python3.11/dist-packages (from jsonschema>=3.0->altair<6,>=4.0->streamlit->memory) (25.3.0)\n",
            "Requirement already satisfied: jsonschema-specifications>=2023.03.6 in /usr/local/lib/python3.11/dist-packages (from jsonschema>=3.0->altair<6,>=4.0->streamlit->memory) (2024.10.1)\n",
            "Requirement already satisfied: referencing>=0.28.4 in /usr/local/lib/python3.11/dist-packages (from jsonschema>=3.0->altair<6,>=4.0->streamlit->memory) (0.36.2)\n",
            "Requirement already satisfied: rpds-py>=0.7.1 in /usr/local/lib/python3.11/dist-packages (from jsonschema>=3.0->altair<6,>=4.0->streamlit->memory) (0.23.1)\n",
            "Requirement already satisfied: six>=1.5 in /usr/local/lib/python3.11/dist-packages (from python-dateutil>=2.8.2->pandas<3,>=1.4.0->streamlit->memory) (1.17.0)\n",
            "Downloading memory-1.0.0-py3-none-any.whl (8.2 kB)\n",
            "Downloading profiler-0.1.0-py2.py3-none-any.whl (3.3 kB)\n",
            "Downloading streamlit-1.44.0-py3-none-any.whl (9.8 MB)\n",
            "\u001b[2K   \u001b[90m━━━━━━━━━━━━━━━━━━━━━━━━━━━━━━━━━━━━━━━━\u001b[0m \u001b[32m9.8/9.8 MB\u001b[0m \u001b[31m40.3 MB/s\u001b[0m eta \u001b[36m0:00:00\u001b[0m\n",
            "\u001b[?25hDownloading pydeck-0.9.1-py2.py3-none-any.whl (6.9 MB)\n",
            "\u001b[2K   \u001b[90m━━━━━━━━━━━━━━━━━━━━━━━━━━━━━━━━━━━━━━━━\u001b[0m \u001b[32m6.9/6.9 MB\u001b[0m \u001b[31m54.1 MB/s\u001b[0m eta \u001b[36m0:00:00\u001b[0m\n",
            "\u001b[?25hDownloading watchdog-6.0.0-py3-none-manylinux2014_x86_64.whl (79 kB)\n",
            "\u001b[2K   \u001b[90m━━━━━━━━━━━━━━━━━━━━━━━━━━━━━━━━━━━━━━━━\u001b[0m \u001b[32m79.1/79.1 kB\u001b[0m \u001b[31m4.1 MB/s\u001b[0m eta \u001b[36m0:00:00\u001b[0m\n",
            "\u001b[?25hInstalling collected packages: watchdog, profiler, pydeck, streamlit, memory\n",
            "Successfully installed memory-1.0.0 profiler-0.1.0 pydeck-0.9.1 streamlit-1.44.0 watchdog-6.0.0\n"
          ]
        }
      ]
    },
    {
      "cell_type": "code",
      "source": [
        "pip install memory-profiler\n"
      ],
      "metadata": {
        "colab": {
          "base_uri": "https://localhost:8080/"
        },
        "collapsed": true,
        "id": "gY_zAINE6nQv",
        "outputId": "04491dce-38e1-4430-a27a-20ab4bc2ebfc"
      },
      "execution_count": 49,
      "outputs": [
        {
          "output_type": "stream",
          "name": "stdout",
          "text": [
            "Collecting memory-profiler\n",
            "  Downloading memory_profiler-0.61.0-py3-none-any.whl.metadata (20 kB)\n",
            "Requirement already satisfied: psutil in /usr/local/lib/python3.11/dist-packages (from memory-profiler) (5.9.5)\n",
            "Downloading memory_profiler-0.61.0-py3-none-any.whl (31 kB)\n",
            "Installing collected packages: memory-profiler\n",
            "Successfully installed memory-profiler-0.61.0\n"
          ]
        }
      ]
    },
    {
      "cell_type": "code",
      "source": [],
      "metadata": {
        "id": "OwSyGYeL6ucF"
      },
      "execution_count": null,
      "outputs": []
    },
    {
      "cell_type": "code",
      "source": [
        "#16. Demonstrate how to use memory profiling to check the memory usage of a small program.\n",
        "from memory_profiler import profile\n",
        "\n",
        "@profile\n",
        "def my_function():\n",
        "    a = [1] * (10 ** 6)  # Create a large list\n",
        "    b = [2] * (2 * 10 ** 7)  # Create an even larger list\n",
        "    del b  # Delete b to observe memory release\n",
        "    return a\n",
        "\n",
        "if __name__ == '__main__':\n",
        "    my_function()"
      ],
      "metadata": {
        "colab": {
          "base_uri": "https://localhost:8080/"
        },
        "id": "J317vAsmpKOg",
        "outputId": "71c66243-2f83-4f74-e6fe-0cf72b0adf46"
      },
      "execution_count": 56,
      "outputs": [
        {
          "output_type": "stream",
          "name": "stdout",
          "text": [
            "ERROR: Could not find file <ipython-input-56-f19d4aa44364>\n",
            "NOTE: %mprun can only be used on functions defined in physical files, and not in the IPython environment.\n"
          ]
        }
      ]
    },
    {
      "cell_type": "code",
      "source": [
        "#17. Write a Python program to create and write a list of numbers to a file, one number per line.\n",
        "with open('numbers.txt', 'w') as file:\n",
        "    numbers = [1, 2, 3, 4, 5]\n",
        "    for num in numbers:\n",
        "        file.write(str(num) + '\\n')\n",
        "with open('numbers.txt', 'r') as file:\n",
        "    print(file.read())"
      ],
      "metadata": {
        "colab": {
          "base_uri": "https://localhost:8080/"
        },
        "id": "9jgKxM9A6_q_",
        "outputId": "5c7f40a6-cbc3-46d4-f45e-75880c89ec6d"
      },
      "execution_count": 58,
      "outputs": [
        {
          "output_type": "stream",
          "name": "stdout",
          "text": [
            "1\n",
            "2\n",
            "3\n",
            "4\n",
            "5\n",
            "\n"
          ]
        }
      ]
    },
    {
      "cell_type": "code",
      "source": [
        "#18. How would you implement a basic logging setup that logs to a file with rotation after 1MB.\n",
        "import logging\n",
        "from logging.handlers import RotatingFileHandler\n",
        "\n",
        "\n",
        "log_file = 'app.log'\n",
        "max_log_size = 1 * 1024 * 1024\n",
        "backup_count = 3\n",
        "\n",
        "\n",
        "handler = RotatingFileHandler(log_file, maxBytes=max_log_size, backupCount=backup_count)\n",
        "\n",
        "\n",
        "handler.setLevel(logging.INFO)\n",
        "formatter = logging.Formatter('%(asctime)s - %(levelname)s - %(message)s')\n",
        "handler.setFormatter(formatter)\n",
        "\n",
        "\n",
        "logger = logging.getLogger()\n",
        "logger.setLevel(logging.INFO)\n",
        "logger.addHandler(handler)\n",
        "\n",
        "logger.info(\"This is an info message.\")\n",
        "logger.error(\"This is an error message.\")\n",
        "logger.warning(\"This is a warning message.\")\n",
        "\n"
      ],
      "metadata": {
        "colab": {
          "base_uri": "https://localhost:8080/"
        },
        "id": "_zFpvW6Z9XME",
        "outputId": "0807c2f8-0689-4d32-e745-48659ccb7363"
      },
      "execution_count": 60,
      "outputs": [
        {
          "output_type": "stream",
          "name": "stderr",
          "text": [
            "INFO:root:This is an info message.\n",
            "ERROR:root:This is an error message.\n",
            "WARNING:root:This is a warning message.\n"
          ]
        }
      ]
    },
    {
      "cell_type": "code",
      "source": [
        "#19. Write a program that handles both IndexError and KeyError using a try-except block.\n",
        "def handle():\n",
        "  my_list = [1,2,3,4,5]\n",
        "  my_dict = {'a': 1, 'b': 2}\n",
        "  try:\n",
        "   print(my_list[5])\n",
        "   print(my_dict['c'])\n",
        "  except IndexError:\n",
        "   print(\"Error: Index out of range.\")\n",
        "  except KeyError:\n",
        "   print(\"Error: Key does not exist in the dictionary.\")\n",
        "handle()\n"
      ],
      "metadata": {
        "colab": {
          "base_uri": "https://localhost:8080/"
        },
        "id": "y1uISUhv-LID",
        "outputId": "9b3df4be-c6d1-4b4b-eb97-8b7e3c55a31e"
      },
      "execution_count": 65,
      "outputs": [
        {
          "output_type": "stream",
          "name": "stdout",
          "text": [
            "Error: Index out of range.\n"
          ]
        }
      ]
    },
    {
      "cell_type": "code",
      "source": [
        "#20. How would you open a file and read its contents using a context manager in Python.\n",
        "with open('file.txt', 'r') as file:\n",
        "    content = file.read()\n",
        "    print(content)"
      ],
      "metadata": {
        "colab": {
          "base_uri": "https://localhost:8080/"
        },
        "id": "pUIfm5_a_UFD",
        "outputId": "f353183b-d905-4c08-838d-6b1028132137"
      },
      "execution_count": 66,
      "outputs": [
        {
          "output_type": "stream",
          "name": "stdout",
          "text": [
            "Hello, world\n",
            "Appending data to the file.\n"
          ]
        }
      ]
    },
    {
      "cell_type": "code",
      "source": [
        "#21. Write a Python program that reads a file and prints the number of occurrences of a specific word.\n",
        "with open('file.txt', 'r') as file:\n",
        "    content = file.read()\n",
        "word_to_count = 'Hello'\n",
        "word_count = content.count(word_to_count)\n",
        "print(f\"The word '{word_to_count}' appears {word_count} times in the file.\")"
      ],
      "metadata": {
        "colab": {
          "base_uri": "https://localhost:8080/"
        },
        "id": "-KbXrMDmAPaa",
        "outputId": "3bdf2ef0-5856-403f-c9d1-ec73fe02d8a8"
      },
      "execution_count": 68,
      "outputs": [
        {
          "output_type": "stream",
          "name": "stdout",
          "text": [
            "The word 'Hello' appears 1 times in the file.\n"
          ]
        }
      ]
    },
    {
      "cell_type": "code",
      "source": [
        "#22. How can you check if a file is empty before attempting to read its contents.\n",
        "with open('file.txt', 'r') as file:\n",
        "    content = file.read()\n",
        "if content:\n",
        "    print(content)\n",
        "else:\n",
        "    print(\"The file is empty.\")"
      ],
      "metadata": {
        "colab": {
          "base_uri": "https://localhost:8080/"
        },
        "id": "X7zkrLSAAqfa",
        "outputId": "2fc6ecc8-e681-477d-ec80-91a4cf769677"
      },
      "execution_count": 69,
      "outputs": [
        {
          "output_type": "stream",
          "name": "stdout",
          "text": [
            "Hello, world\n",
            "Appending data to the file.\n"
          ]
        }
      ]
    },
    {
      "cell_type": "code",
      "source": [
        "#23. Write a Python program that writes to a log file when an error occurs during file handling.\n",
        "import logging\n",
        "logging.basicConfig(level=logging.INFO)\n",
        "try:\n",
        "    with open('nonexistent_file.txt', 'r') as file:\n",
        "        data = file.read()\n",
        "except FileNotFoundError:\n",
        "    logging.error(\"Error: The file does not exist.\")"
      ],
      "metadata": {
        "colab": {
          "base_uri": "https://localhost:8080/"
        },
        "id": "O9yjLGOWA78h",
        "outputId": "6dec8c15-4216-4c41-cdcb-b3cdab78d089"
      },
      "execution_count": 70,
      "outputs": [
        {
          "output_type": "stream",
          "name": "stderr",
          "text": [
            "ERROR:root:Error: The file does not exist.\n"
          ]
        }
      ]
    },
    {
      "cell_type": "code",
      "source": [],
      "metadata": {
        "id": "kZcO_vvbBRZ8"
      },
      "execution_count": null,
      "outputs": []
    }
  ]
}